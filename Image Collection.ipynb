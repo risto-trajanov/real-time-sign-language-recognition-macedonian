{
 "cells": [
  {
   "cell_type": "markdown",
   "metadata": {},
   "source": [
    "# 1. Collect Images"
   ]
  },
  {
   "cell_type": "code",
   "execution_count": 22,
   "metadata": {},
   "outputs": [],
   "source": [
    "# Import opencv\n",
    "import cv2 \n",
    "\n",
    "# Import uuid\n",
    "import uuid\n",
    "\n",
    "# Import Operating System\n",
    "import os\n",
    "\n",
    "# Import time\n",
    "import time"
   ]
  },
  {
   "cell_type": "code",
   "execution_count": 23,
   "metadata": {},
   "outputs": [],
   "source": [
    "IMAGES_PATH = 'collected_images/'\n",
    "#{IMAGES_PATH}{label}/"
   ]
  },
  {
   "cell_type": "code",
   "execution_count": 24,
   "metadata": {},
   "outputs": [],
   "source": [
    "os.makedirs(IMAGES_PATH, exist_ok=True)"
   ]
  },
  {
   "cell_type": "code",
   "execution_count": 25,
   "metadata": {},
   "outputs": [],
   "source": [
    "labels = ['a', 'b']\n",
    "number_imgs = 10"
   ]
  },
  {
   "cell_type": "code",
   "execution_count": 26,
   "metadata": {},
   "outputs": [
    {
     "name": "stdout",
     "output_type": "stream",
     "text": [
      "Collecting images for a\n",
      "Collecting image 0\n",
      "collected_images/a\\a.413b9838-d400-11eb-ab06-5cf3709ec7ac.jpg\n",
      "Collecting image 1\n",
      "collected_images/a\\a.426ffc9e-d400-11eb-91f9-5cf3709ec7ac.jpg\n",
      "Collecting image 2\n",
      "collected_images/a\\a.43a5b452-d400-11eb-9736-5cf3709ec7ac.jpg\n",
      "Collecting image 3\n",
      "collected_images/a\\a.44dcac68-d400-11eb-8ebf-5cf3709ec7ac.jpg\n",
      "Collecting image 4\n",
      "collected_images/a\\a.46126cf4-d400-11eb-aab4-5cf3709ec7ac.jpg\n",
      "Collecting image 5\n",
      "collected_images/a\\a.4746b424-d400-11eb-a62a-5cf3709ec7ac.jpg\n",
      "Collecting image 6\n",
      "collected_images/a\\a.487bd06c-d400-11eb-9650-5cf3709ec7ac.jpg\n",
      "Collecting image 7\n",
      "collected_images/a\\a.49b1adf6-d400-11eb-8208-5cf3709ec7ac.jpg\n",
      "Collecting image 8\n",
      "collected_images/a\\a.4ae799c6-d400-11eb-930d-5cf3709ec7ac.jpg\n",
      "Collecting image 9\n",
      "collected_images/a\\a.4c1c8db4-d400-11eb-80f6-5cf3709ec7ac.jpg\n",
      "Collecting images for b\n",
      "Collecting image 0\n",
      "collected_images/b\\b.52608474-d400-11eb-94ef-5cf3709ec7ac.jpg\n",
      "Collecting image 1\n",
      "collected_images/b\\b.53975140-d400-11eb-a923-5cf3709ec7ac.jpg\n",
      "Collecting image 2\n",
      "collected_images/b\\b.54cc96dc-d400-11eb-a06a-5cf3709ec7ac.jpg\n",
      "Collecting image 3\n",
      "collected_images/b\\b.56043506-d400-11eb-9cf9-5cf3709ec7ac.jpg\n",
      "Collecting image 4\n",
      "collected_images/b\\b.573ba7de-d400-11eb-b6e4-5cf3709ec7ac.jpg\n",
      "Collecting image 5\n",
      "collected_images/b\\b.5871cdf4-d400-11eb-8b94-5cf3709ec7ac.jpg\n",
      "Collecting image 6\n",
      "collected_images/b\\b.59a85638-d400-11eb-9088-5cf3709ec7ac.jpg\n",
      "Collecting image 7\n",
      "collected_images/b\\b.5adf2882-d400-11eb-b200-5cf3709ec7ac.jpg\n",
      "Collecting image 8\n",
      "collected_images/b\\b.5c16aac2-d400-11eb-84e0-5cf3709ec7ac.jpg\n",
      "Collecting image 9\n",
      "collected_images/b\\b.5d4c4a0c-d400-11eb-830e-5cf3709ec7ac.jpg\n"
     ]
    }
   ],
   "source": [
    "for label in labels:\n",
    "    os.makedirs(IMAGES_PATH + label, exist_ok=True)\n",
    "    cap = cv2.VideoCapture(0)\n",
    "    print('Collecting images for {}'.format(label))\n",
    "    time.sleep(5)\n",
    "    for imgnum in range(number_imgs): \n",
    "        print('Collecting image {}'.format(imgnum))\n",
    "        ret, frame = cap.read()\n",
    "        imgname = os.path.join(IMAGES_PATH,label,label+'.'+'{}.jpg'.format(str(uuid.uuid1())))\n",
    "        print(imgname)\n",
    "        #imgname = f'{IMAGES_PATH}{label}/img_{imgnum}.png'\n",
    "        #print(imgname)\n",
    "        cv2.imwrite(imgname, frame)\n",
    "        cv2.imshow('frame', frame)\n",
    "        time.sleep(2)\n",
    "\n",
    "        if cv2.waitKey(1) & 0xFF == ord('q'):\n",
    "            break\n",
    "    cap.release()\n",
    "cv2.destroyAllWindows()"
   ]
  },
  {
   "cell_type": "markdown",
   "metadata": {},
   "source": [
    "# cap.release()"
   ]
  },
  {
   "cell_type": "code",
   "execution_count": null,
   "metadata": {},
   "outputs": [
    {
     "name": "stdout",
     "output_type": "stream",
     "text": [
      "opencv_frame_0.png written!\n"
     ]
    }
   ],
   "source": [
    "cam = cv2.VideoCapture(0)\n",
    "\n",
    "cv2.namedWindow(\"test\")\n",
    "\n",
    "img_counter = 0\n",
    "\n",
    "while True:\n",
    "    ret, frame = cam.read()\n",
    "    if not ret:\n",
    "        print(\"failed to grab frame\")\n",
    "        break\n",
    "    cv2.imshow(\"test\", frame)\n",
    "\n",
    "    k = cv2.waitKey(1)\n",
    "    if k%256 == 27:\n",
    "        # ESC pressed\n",
    "        print(\"Escape hit, closing...\")\n",
    "        break\n",
    "    elif k%256 == 32:\n",
    "        # SPACE pressed\n",
    "        img_name = \"opencv_frame_{}.png\".format(img_counter)\n",
    "        cv2.imwrite(img_name, frame)\n",
    "        print(\"{} written!\".format(img_name))\n",
    "        img_counter += 1\n",
    "\n",
    "cam.release()\n",
    "\n",
    "cv2.destroyAllWindows()"
   ]
  },
  {
   "cell_type": "code",
   "execution_count": null,
   "metadata": {},
   "outputs": [],
   "source": [
    "cv2.destroyAllWindows()"
   ]
  },
  {
   "cell_type": "code",
   "execution_count": null,
   "metadata": {},
   "outputs": [],
   "source": []
  }
 ],
 "metadata": {
  "kernelspec": {
   "display_name": "Python 3",
   "language": "python",
   "name": "python3"
  },
  "language_info": {
   "codemirror_mode": {
    "name": "ipython",
    "version": 3
   },
   "file_extension": ".py",
   "mimetype": "text/x-python",
   "name": "python",
   "nbconvert_exporter": "python",
   "pygments_lexer": "ipython3",
   "version": "3.7.10"
  }
 },
 "nbformat": 4,
 "nbformat_minor": 4
}
