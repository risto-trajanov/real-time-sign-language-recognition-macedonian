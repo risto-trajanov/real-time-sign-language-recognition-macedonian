{
 "cells": [
  {
   "cell_type": "code",
   "execution_count": 6,
   "id": "2b9e1839-6530-4998-afc6-d8036a18342e",
   "metadata": {},
   "outputs": [],
   "source": [
    "import xml.etree.ElementTree\n",
    "import os\n",
    "import xml.etree.cElementTree as ET\n",
    "from xml.etree.ElementTree import Element, SubElement"
   ]
  },
  {
   "cell_type": "code",
   "execution_count": 12,
   "id": "75f5e38b-6620-492d-95ba-a48fd2559ce3",
   "metadata": {},
   "outputs": [],
   "source": [
    "train_folder = './train/'\n",
    "test_folder = './test/'"
   ]
  },
  {
   "cell_type": "code",
   "execution_count": 13,
   "id": "0cc9f8be-ed3f-4a5e-be37-e181269c147e",
   "metadata": {},
   "outputs": [],
   "source": [
    "train_files = os.listdir(train_folder)\n",
    "test_files = os.listdir(test_folder) "
   ]
  },
  {
   "cell_type": "code",
   "execution_count": 28,
   "id": "ebfe0f87-dd92-4bda-9c3d-c39c426e9415",
   "metadata": {},
   "outputs": [],
   "source": [
    "def alter_xml(files, folder):\n",
    "    for file in files:\n",
    "        if file.endswith('.xml'):\n",
    "            tree = ET.ElementTree(file=folder + file)\n",
    "            root = tree.getroot()\n",
    "            filename = tree.find('filename')\n",
    "            if filename.text.endswith('.xml'):\n",
    "                filename.text = filename.text[:-4]\n",
    "            if filename.text.endswith('.jpg'):\n",
    "                continue\n",
    "            filename.text = filename.text + '.jpg'\n",
    "            tree.write(folder + file)"
   ]
  },
  {
   "cell_type": "code",
   "execution_count": 29,
   "id": "bcbf9bf3-9a79-40ba-8c13-eb2f751265e6",
   "metadata": {},
   "outputs": [],
   "source": [
    "alter_xml(test_files, test_folder)"
   ]
  },
  {
   "cell_type": "code",
   "execution_count": 30,
   "id": "01cc1a72-d020-4aaf-98ff-dba7c5453fe5",
   "metadata": {},
   "outputs": [],
   "source": [
    "alter_xml(train_files, train_folder)"
   ]
  },
  {
   "cell_type": "code",
   "execution_count": null,
   "id": "2d90f3e4-226b-41bf-ad0c-b4197a773865",
   "metadata": {},
   "outputs": [],
   "source": []
  }
 ],
 "metadata": {
  "kernelspec": {
   "display_name": "Python 3",
   "language": "python",
   "name": "python3"
  },
  "language_info": {
   "codemirror_mode": {
    "name": "ipython",
    "version": 3
   },
   "file_extension": ".py",
   "mimetype": "text/x-python",
   "name": "python",
   "nbconvert_exporter": "python",
   "pygments_lexer": "ipython3",
   "version": "3.7.10"
  }
 },
 "nbformat": 4,
 "nbformat_minor": 5
}
