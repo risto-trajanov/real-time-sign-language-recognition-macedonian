{
 "cells": [
  {
   "cell_type": "code",
   "execution_count": 12,
   "metadata": {},
   "outputs": [],
   "source": [
    "import xml.etree.ElementTree\n",
    "import os\n",
    "import xml.etree.cElementTree as ET\n",
    "from xml.etree.ElementTree import Element, SubElement\n",
    "import shutil\n",
    "import numpy as np"
   ]
  },
  {
   "cell_type": "code",
   "execution_count": 29,
   "metadata": {},
   "outputs": [],
   "source": [
    "train_folder = './train/'\n",
    "test_folder = './test/'\n",
    "val_folder = './val/'\n",
    "images_folder = './colectedimages/'"
   ]
  },
  {
   "cell_type": "code",
   "execution_count": null,
   "metadata": {},
   "outputs": [],
   "source": [
    "images_raw = os.listdir(images_folder)"
   ]
  },
  {
   "cell_type": "code",
   "execution_count": 30,
   "metadata": {},
   "outputs": [],
   "source": [
    "os.makedirs(train_folder, exist_ok=True)\n",
    "os.makedirs(test_folder, exist_ok=True)\n",
    "os.makedirs(val_folder, exist_ok=True)"
   ]
  },
  {
   "cell_type": "code",
   "execution_count": 34,
   "metadata": {},
   "outputs": [],
   "source": [
    "classes = ['a', 'b']\n",
    "val_ratio = 0.20\n",
    "test_ratio = 0.20\n",
    "def split_train_test(files, src):\n",
    "    for class_name in classes:\n",
    "        class_images = []\n",
    "        for file in files:\n",
    "            if file.endswith('.jpg') and file.startswith(class_name):\n",
    "                class_images.append(file)\n",
    "                \n",
    "        train_FileNames, val_FileNames, test_FileNames = np.split(np.array(class_images),\n",
    "                                                                  [int(len(class_images) * (1 - (val_ratio + test_ratio))),\n",
    "                                                                   int(len(class_images) * (1 - val_ratio)),\n",
    "                                                                   ])\n",
    "        train_FileNames = [src + name for name in train_FileNames.tolist()]\n",
    "        val_FileNames = [src + name for name in val_FileNames.tolist()]\n",
    "        test_FileNames = [src + name for name in test_FileNames.tolist()]\n",
    "        \n",
    "        print('Total images: '+ str(len(class_images)))\n",
    "        print('Training: '+ str(len(train_FileNames)))\n",
    "        print('Validation: '+  str(len(val_FileNames)))\n",
    "        print('Testing: '+ str(len(test_FileNames)))\n",
    "        \n",
    "         # Copy-pasting images\n",
    "        for name in train_FileNames:\n",
    "            shutil.copy(name, train_folder)\n",
    "            name_xml = name.replace('.jpg', '.xml')\n",
    "            shutil.copy(name_xml, train_folder)\n",
    "\n",
    "        for name in val_FileNames:\n",
    "            shutil.copy(name, val_folder)\n",
    "            name_xml = name.replace('.jpg', '.xml')\n",
    "            shutil.copy(name_xml, val_folder)\n",
    "\n",
    "        for name in test_FileNames:\n",
    "            shutil.copy(name, test_folder)\n",
    "            name_xml = name.replace('.jpg', '.xml')\n",
    "            shutil.copy(name_xml, test_folder)"
   ]
  },
  {
   "cell_type": "code",
   "execution_count": 35,
   "metadata": {},
   "outputs": [
    {
     "name": "stdout",
     "output_type": "stream",
     "text": [
      "Total images: 10\n",
      "Training: 6\n",
      "Validation: 2\n",
      "Testing: 2\n",
      "Total images: 10\n",
      "Training: 6\n",
      "Validation: 2\n",
      "Testing: 2\n"
     ]
    }
   ],
   "source": [
    "split_train_test(images_raw, images_folder)"
   ]
  },
  {
   "cell_type": "code",
   "execution_count": 39,
   "metadata": {},
   "outputs": [],
   "source": [
    "train_files = os.listdir(train_folder)\n",
    "test_files = os.listdir(test_folder) \n",
    "val_files = os.listdir(val_folder)"
   ]
  },
  {
   "cell_type": "code",
   "execution_count": 40,
   "metadata": {},
   "outputs": [],
   "source": [
    "def alter_xml(files, folder):\n",
    "    for file in files:\n",
    "        if file.endswith('.xml'):\n",
    "            tree = ET.ElementTree(file=folder + file)\n",
    "            root = tree.getroot()\n",
    "            filename = tree.find('filename')\n",
    "            if filename.text.endswith('.xml'):\n",
    "                filename.text = filename.text[:-4]\n",
    "            if filename.text.endswith('.jpg'):\n",
    "                continue\n",
    "            filename.text = filename.text + '.jpg'\n",
    "            tree.write(folder + file)"
   ]
  },
  {
   "cell_type": "code",
   "execution_count": 41,
   "metadata": {},
   "outputs": [],
   "source": [
    "alter_xml(test_files, test_folder)"
   ]
  },
  {
   "cell_type": "code",
   "execution_count": 42,
   "metadata": {},
   "outputs": [],
   "source": [
    "alter_xml(train_files, train_folder)"
   ]
  },
  {
   "cell_type": "code",
   "execution_count": 44,
   "metadata": {},
   "outputs": [],
   "source": [
    "alter_xml(val_files, val_folder)"
   ]
  },
  {
   "cell_type": "code",
   "execution_count": null,
   "metadata": {},
   "outputs": [],
   "source": []
  }
 ],
 "metadata": {
  "kernelspec": {
   "display_name": "Python 3",
   "language": "python",
   "name": "python3"
  },
  "language_info": {
   "codemirror_mode": {
    "name": "ipython",
    "version": 3
   },
   "file_extension": ".py",
   "mimetype": "text/x-python",
   "name": "python",
   "nbconvert_exporter": "python",
   "pygments_lexer": "ipython3",
   "version": "3.7.6"
  }
 },
 "nbformat": 4,
 "nbformat_minor": 5
}
